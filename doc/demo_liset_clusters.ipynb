{
 "cells": [
  {
   "cell_type": "markdown",
   "metadata": {
    "collapsed": true
   },
   "source": [
    "# Demo of LiSET clusters - Basic functionality\n",
    "\n",
    "The Lifecycle Screening of Emerging Technologies (LiSET) requires the combination of quantiative and qualitative indicators, and a rapid overview of environmental hotspots, potential strengths and relative weaknesses of a large number of technologies. \n",
    "\n",
    "This small module aims to facilitate this process. It regroups quantitative data in a finite number of clusters, for easy combination with qualitative data.\n",
    "\n",
    "\n",
    "## Import of Modules and Data\n",
    "\n",
    "This module accepts data in multiple formats\n",
    "* list\n",
    "* numpy arrays\n",
    "* pandas Series and DataFrames\n",
    "\n",
    "Additionally, data in Microsoft Excel may be easily imported with the [powerful import function of pandas](http://pandas.pydata.org/pandas-docs/version/0.23/generated/pandas.read_excel.html)."
   ]
  },
  {
   "cell_type": "code",
   "execution_count": 1,
   "metadata": {},
   "outputs": [],
   "source": [
    "# The usual imports\n",
    "import pandas as pd\n",
    "import matplotlib.pyplot as plt\n",
    "%matplotlib inline\n",
    "\n",
    "# the LiSET cluster module\n",
    "import liset\n",
    "\n",
    "# Helper function: simple graphing for non-clustered data\n",
    "def simple_bar(ds, log=False):\n",
    "    fig, ax = plt.subplots()\n",
    "    ax.bar(list(ds.index), ds, color='gray', log=log)\n",
    "    ax.set_ylabel('Values')\n",
    "    return ax"
   ]
  },
  {
   "cell_type": "code",
   "execution_count": 2,
   "metadata": {
    "collapsed": true
   },
   "outputs": [],
   "source": [
    "# Labels/names of technologies\n",
    "candidates = ['tech{}'.format(i) for i in range(9)]\n",
    "\n",
    "# Data vector with a moderate range\n",
    "moderate_spread = pd.Series([\n",
    "1.8510039,\n",
    "1.9076962,\n",
    "2.4,\n",
    "2.5123298,\n",
    "2.6671771,\n",
    "4.8501761,\n",
    "6.65,\n",
    "6.85,\n",
    "9.2784423,], candidates)\n",
    "\n",
    "# Data vector with a spread over multiple orders of magnitude\n",
    "large_spread = pd.Series([\n",
    "3.67647058823529,\n",
    "36.231884057971,\n",
    "10101.0101010101,\n",
    "34482.7586206897,\n",
    "55555.5555555556,\n",
    "66666666.6666667,\n",
    "80000000,\n",
    "250000000,\n",
    "10000000000,\n",
    "], index=candidates)\n",
    "\n",
    "# Tabular data\n",
    "liset_tbl = pd.DataFrame([[11., 22., 66., 11.], \n",
    "                          [2., 7., 1., ]], \n",
    "                         ['Aspect 1', 'Aspect 2'], ['TechA', 'TechB', 'TechC', 'TechD'])"
   ]
  },
  {
   "cell_type": "markdown",
   "metadata": {},
   "source": [
    "## Moderate spread\n",
    "\n",
    "Let us have 8 different technologies, competing in terms of a lifecycle aspect (e.g., energy requirements). This data presents a moderate spread (within one order of magnitude)."
   ]
  },
  {
   "cell_type": "code",
   "execution_count": 3,
   "metadata": {},
   "outputs": [
    {
     "data": {
      "image/png": "[encoded data removed]",
      "text/plain": [
       "<matplotlib.figure.Figure at 0x7f0b4c18d1d0>"
      ]
     },
     "metadata": {},
     "output_type": "display_data"
    }
   ],
   "source": [
    "fig = simple_bar(moderate_spread)"
   ]
  },
  {
   "cell_type": "markdown",
   "metadata": {},
   "source": [
    "We want to regroup these technologies in three groups (green, yellow, and red). We rely on Jenks Natural Break clustering alogorithm to decide where to put the boundary between each group."
   ]
  },
  {
   "cell_type": "code",
   "execution_count": 4,
   "metadata": {},
   "outputs": [
    {
     "data": {
      "text/plain": [
       "tech0     green\n",
       "tech1     green\n",
       "tech2     green\n",
       "tech3     green\n",
       "tech4     green\n",
       "tech5    yellow\n",
       "tech6    yellow\n",
       "tech7    yellow\n",
       "tech8       red\n",
       "dtype: object"
      ]
     },
     "execution_count": 4,
     "metadata": {},
     "output_type": "execute_result"
    }
   ],
   "source": [
    "liset.cluster_vector(moderate_spread)"
   ]
  },
  {
   "cell_type": "markdown",
   "metadata": {},
   "source": [
    "We can define categories as we want, numeric or string"
   ]
  },
  {
   "cell_type": "code",
   "execution_count": 5,
   "metadata": {},
   "outputs": [
    {
     "data": {
      "text/plain": [
       "tech0    0.0\n",
       "tech1    0.0\n",
       "tech2    0.0\n",
       "tech3    0.0\n",
       "tech4    0.0\n",
       "tech5    1.0\n",
       "tech6    1.0\n",
       "tech7    1.0\n",
       "tech8    2.0\n",
       "dtype: float64"
      ]
     },
     "execution_count": 5,
     "metadata": {},
     "output_type": "execute_result"
    }
   ],
   "source": [
    "liset.cluster_vector(moderate_spread, categories=[0,1,2])"
   ]
  },
  {
   "cell_type": "code",
   "execution_count": 6,
   "metadata": {},
   "outputs": [
    {
     "data": {
      "text/plain": [
       "tech0    theGood\n",
       "tech1    theGood\n",
       "tech2    theGood\n",
       "tech3    theGood\n",
       "tech4    theGood\n",
       "tech5     theBad\n",
       "tech6     theBad\n",
       "tech7     theBad\n",
       "tech8    theUgly\n",
       "dtype: object"
      ]
     },
     "execution_count": 6,
     "metadata": {},
     "output_type": "execute_result"
    }
   ],
   "source": [
    "liset.cluster_vector(moderate_spread, categories=['theGood', 'theBad', 'theUgly'])"
   ]
  },
  {
   "cell_type": "markdown",
   "metadata": {},
   "source": [
    "This can also be represented graphically with the cluster plotting function."
   ]
  },
  {
   "cell_type": "code",
   "execution_count": 7,
   "metadata": {},
   "outputs": [
    {
     "data": {
      "image/png": "[encoded data removed]",
      "text/plain": [
       "<matplotlib.figure.Figure at 0x7f0b4c153ef0>"
      ]
     },
     "metadata": {},
     "output_type": "display_data"
    }
   ],
   "source": [
    "fig = liset.cluster_vector_plot(moderate_spread, labels=candidates)"
   ]
  },
  {
   "cell_type": "markdown",
   "metadata": {},
   "source": [
    "We can have any number of categories, as long as there are more technology candidates than there are categories"
   ]
  },
  {
   "cell_type": "code",
   "execution_count": 8,
   "metadata": {},
   "outputs": [
    {
     "data": {
      "image/png": "[encoded data removed]",
      "text/plain": [
       "<matplotlib.figure.Figure at 0x7f0b1860f5f8>"
      ]
     },
     "metadata": {},
     "output_type": "display_data"
    }
   ],
   "source": [
    "fig = liset.cluster_vector_plot(moderate_spread, \n",
    "                             labels=candidates, \n",
    "                             categories=['blue', 'green', 'yellow', 'red'])"
   ]
  },
  {
   "cell_type": "markdown",
   "metadata": {},
   "source": [
    "## Large spread - Log Scale\n",
    "\n",
    "The different technologies can present lifecycle aspects that span multiple orders of magnitude, such as ecotoxicity impacts of its material requirements. For example, let us have:"
   ]
  },
  {
   "cell_type": "code",
   "execution_count": 9,
   "metadata": {},
   "outputs": [
    {
     "data": {
      "image/png": "[encoded data removed]",
      "text/plain": [
       "<matplotlib.figure.Figure at 0x7f0b18615f60>"
      ]
     },
     "metadata": {},
     "output_type": "display_data"
    }
   ],
   "source": [
    "fig = simple_bar(large_spread, log=True)"
   ]
  },
  {
   "cell_type": "markdown",
   "metadata": {},
   "source": [
    "With such a distribution, the clustering of the data will be dwarfed by the two worst emitters, which will invariably monopolize the worst and second-worst categories, leaving all other options relatively \"green\"."
   ]
  },
  {
   "cell_type": "code",
   "execution_count": 10,
   "metadata": {},
   "outputs": [
    {
     "data": {
      "image/png": "[encoded data removed]",
      "text/plain": [
       "<matplotlib.figure.Figure at 0x7f0b18563588>"
      ]
     },
     "metadata": {},
     "output_type": "display_data"
    }
   ],
   "source": [
    "fig = liset.cluster_vector_plot(large_spread, plot_scale='log')"
   ]
  },
  {
   "cell_type": "markdown",
   "metadata": {},
   "source": [
    "Yet, there are multiple orders of magnitudes of difference between the best green and the worst green. To give more weight to these important differences between low-impact candidates, we perform the clustering on the log10 of the data."
   ]
  },
  {
   "cell_type": "code",
   "execution_count": 11,
   "metadata": {},
   "outputs": [
    {
     "data": {
      "image/png": "[encoded data removed]",
      "text/plain": [
       "<matplotlib.figure.Figure at 0x7f0b185f26d8>"
      ]
     },
     "metadata": {},
     "output_type": "display_data"
    }
   ],
   "source": [
    "fig = liset.cluster_vector_plot(large_spread, scale='log')"
   ]
  },
  {
   "cell_type": "markdown",
   "metadata": {},
   "source": [
    "## LiSET cluster of a matrix\n",
    "\n",
    "Technologies present multiple lifecycle aspects, enabling a tabular comparison. Note that some data could not be acquired for technology D."
   ]
  },
  {
   "cell_type": "code",
   "execution_count": 12,
   "metadata": {},
   "outputs": [
    {
     "data": {
      "text/html": [
       "<div>\n",
       "<style scoped>\n",
       "    .dataframe tbody tr th:only-of-type {\n",
       "        vertical-align: middle;\n",
       "    }\n",
       "\n",
       "    .dataframe tbody tr th {\n",
       "        vertical-align: top;\n",
       "    }\n",
       "\n",
       "    .dataframe thead th {\n",
       "        text-align: right;\n",
       "    }\n",
       "</style>\n",
       "<table border=\"1\" class=\"dataframe\">\n",
       "  <thead>\n",
       "    <tr style=\"text-align: right;\">\n",
       "      <th></th>\n",
       "      <th>TechA</th>\n",
       "      <th>TechB</th>\n",
       "      <th>TechC</th>\n",
       "      <th>TechD</th>\n",
       "    </tr>\n",
       "  </thead>\n",
       "  <tbody>\n",
       "    <tr>\n",
       "      <th>Aspect 1</th>\n",
       "      <td>11.0</td>\n",
       "      <td>22.0</td>\n",
       "      <td>66.0</td>\n",
       "      <td>11.0</td>\n",
       "    </tr>\n",
       "    <tr>\n",
       "      <th>Aspect 2</th>\n",
       "      <td>2.0</td>\n",
       "      <td>7.0</td>\n",
       "      <td>1.0</td>\n",
       "      <td>NaN</td>\n",
       "    </tr>\n",
       "  </tbody>\n",
       "</table>\n",
       "</div>"
      ],
      "text/plain": [
       "          TechA  TechB  TechC  TechD\n",
       "Aspect 1   11.0   22.0   66.0   11.0\n",
       "Aspect 2    2.0    7.0    1.0    NaN"
      ]
     },
     "execution_count": 12,
     "metadata": {},
     "output_type": "execute_result"
    }
   ],
   "source": [
    "liset_tbl"
   ]
  },
  {
   "cell_type": "markdown",
   "metadata": {},
   "source": [
    "We can cluster this data along each aspect. Note that the missing data is clearly marked with a white color code."
   ]
  },
  {
   "cell_type": "code",
   "execution_count": 13,
   "metadata": {},
   "outputs": [
    {
     "data": {
      "image/png": "[encoded data removed]",
      "text/plain": [
       "<matplotlib.figure.Figure at 0x7f0b18607630>"
      ]
     },
     "metadata": {},
     "output_type": "display_data"
    }
   ],
   "source": [
    "fig = liset.cluster_matrix_plot(liset_tbl)"
   ]
  },
  {
   "cell_type": "markdown",
   "metadata": {},
   "source": [
    "## Alternative clustering algorithm\n",
    "\n",
    "As an alterantive to Jenks Natural Breaks, this module also allows for clustering based on K-means algorithm. In this case, the example is robust to the choice of clustering algorithm:"
   ]
  },
  {
   "cell_type": "code",
   "execution_count": 14,
   "metadata": {},
   "outputs": [
    {
     "data": {
      "image/png": "[encoded data removed]",
      "text/plain": [
       "<matplotlib.figure.Figure at 0x7f0b1848e128>"
      ]
     },
     "metadata": {},
     "output_type": "display_data"
    }
   ],
   "source": [
    "fig = liset.cluster_vector_plot(moderate_spread, labels=candidates, method='kmeans')"
   ]
  }
 ],
 "metadata": {
  "kernelspec": {
   "display_name": "Python 3",
   "language": "python",
   "name": "python3"
  },
  "language_info": {
   "codemirror_mode": {
    "name": "ipython",
    "version": 3
   },
   "file_extension": ".py",
   "mimetype": "text/x-python",
   "name": "python",
   "nbconvert_exporter": "python",
   "pygments_lexer": "ipython3",
   "version": "3.5.3"
  }
 },
 "nbformat": 4,
 "nbformat_minor": 2
}
